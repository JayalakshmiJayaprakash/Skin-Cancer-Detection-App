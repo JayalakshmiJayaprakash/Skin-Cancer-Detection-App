{
 "cells": [
  {
   "cell_type": "markdown",
   "metadata": {},
   "source": [
    "Libraties"
   ]
  },
  {
   "cell_type": "code",
   "execution_count": 2,
   "metadata": {},
   "outputs": [],
   "source": [
    "import numpy as np \n",
    "import pandas as pd\n",
    "import tensorflow as tf\n",
    "\n",
    "import os\n",
    "from glob import glob\n",
    "import cv2"
   ]
  },
  {
   "cell_type": "code",
   "execution_count": 3,
   "metadata": {},
   "outputs": [],
   "source": [
    "base_path = os.path.join(os.getcwd(), 'HAM10000_Images')\n",
    "for dirname, _, _ in os.walk(base_path):\n",
    "    print(dirname)"
   ]
  },
  {
   "cell_type": "code",
   "execution_count": 4,
   "metadata": {},
   "outputs": [
    {
     "name": "stdout",
     "output_type": "stream",
     "text": [
      "Looking in: d:\\term 4\\Studio\\Skin\\Skin-Cancer-Detection-App\\Ml_Model\\data\\HAM10000_Images\n",
      "Directories found: ['d:\\\\term 4\\\\Studio\\\\Skin\\\\Skin-Cancer-Detection-App\\\\Ml_Model\\\\data\\\\HAM10000_Images', 'd:\\\\term 4\\\\Studio\\\\Skin\\\\Skin-Cancer-Detection-App\\\\Ml_Model\\\\data\\\\HAM10000_Images\\\\akiec', 'd:\\\\term 4\\\\Studio\\\\Skin\\\\Skin-Cancer-Detection-App\\\\Ml_Model\\\\data\\\\HAM10000_Images\\\\bcc', 'd:\\\\term 4\\\\Studio\\\\Skin\\\\Skin-Cancer-Detection-App\\\\Ml_Model\\\\data\\\\HAM10000_Images\\\\bkl', 'd:\\\\term 4\\\\Studio\\\\Skin\\\\Skin-Cancer-Detection-App\\\\Ml_Model\\\\data\\\\HAM10000_Images\\\\df', 'd:\\\\term 4\\\\Studio\\\\Skin\\\\Skin-Cancer-Detection-App\\\\Ml_Model\\\\data\\\\HAM10000_Images\\\\mel', 'd:\\\\term 4\\\\Studio\\\\Skin\\\\Skin-Cancer-Detection-App\\\\Ml_Model\\\\data\\\\HAM10000_Images\\\\nv', 'd:\\\\term 4\\\\Studio\\\\Skin\\\\Skin-Cancer-Detection-App\\\\Ml_Model\\\\data\\\\HAM10000_Images\\\\vasc']\n",
      "Number of files: 10022\n"
     ]
    }
   ],
   "source": [
    "base_path = r\"d:\\term 4\\Studio\\Skin\\Skin-Cancer-Detection-App\\Ml_Model\\data\\HAM10000_Images\"\n",
    "print(\"Looking in:\", base_path)\n",
    "\n",
    "d_paths = [x[0] for x in os.walk(base_path)]\n",
    "print(\"Directories found:\", d_paths)\n",
    "\n",
    "i_paths = []\n",
    "for d_path in d_paths:\n",
    "    i_paths.extend(glob(os.path.join(d_path, '*')))\n",
    "print(\"Number of files:\", len(i_paths))"
   ]
  },
  {
   "cell_type": "code",
   "execution_count": 4,
   "metadata": {},
   "outputs": [
    {
     "data": {
      "text/plain": [
       "['d:\\\\term 4\\\\Studio\\\\Skin\\\\Skin-Cancer-Detection-App\\\\Ml_Model\\\\data\\\\HAM10000_Images',\n",
       " 'd:\\\\term 4\\\\Studio\\\\Skin\\\\Skin-Cancer-Detection-App\\\\Ml_Model\\\\data\\\\HAM10000_Images\\\\akiec',\n",
       " 'd:\\\\term 4\\\\Studio\\\\Skin\\\\Skin-Cancer-Detection-App\\\\Ml_Model\\\\data\\\\HAM10000_Images\\\\bcc',\n",
       " 'd:\\\\term 4\\\\Studio\\\\Skin\\\\Skin-Cancer-Detection-App\\\\Ml_Model\\\\data\\\\HAM10000_Images\\\\bkl',\n",
       " 'd:\\\\term 4\\\\Studio\\\\Skin\\\\Skin-Cancer-Detection-App\\\\Ml_Model\\\\data\\\\HAM10000_Images\\\\df',\n",
       " 'd:\\\\term 4\\\\Studio\\\\Skin\\\\Skin-Cancer-Detection-App\\\\Ml_Model\\\\data\\\\HAM10000_Images\\\\mel',\n",
       " 'd:\\\\term 4\\\\Studio\\\\Skin\\\\Skin-Cancer-Detection-App\\\\Ml_Model\\\\data\\\\HAM10000_Images\\\\nv',\n",
       " 'd:\\\\term 4\\\\Studio\\\\Skin\\\\Skin-Cancer-Detection-App\\\\Ml_Model\\\\data\\\\HAM10000_Images\\\\vasc']"
      ]
     },
     "execution_count": 4,
     "metadata": {},
     "output_type": "execute_result"
    }
   ],
   "source": [
    "d_paths"
   ]
  },
  {
   "cell_type": "code",
   "execution_count": 5,
   "metadata": {},
   "outputs": [
    {
     "data": {
      "text/plain": [
       "{'none': 7, 'jpg': 10015}"
      ]
     },
     "execution_count": 5,
     "metadata": {},
     "output_type": "execute_result"
    }
   ],
   "source": [
    "from wolta.visual_tools import get_extensions\n",
    "\n",
    "get_extensions(i_paths)"
   ]
  },
  {
   "cell_type": "code",
   "execution_count": 6,
   "metadata": {},
   "outputs": [
    {
     "name": "stdout",
     "output_type": "stream",
     "text": [
      "Number of images found: 10015\n",
      "First image path: d:\\term 4\\Studio\\Skin\\Skin-Cancer-Detection-App\\Ml_Model\\data\\HAM10000_Images\\akiec\\ISIC_0024329.jpg\n",
      "width: 128\n",
      "height: 128\n"
     ]
    }
   ],
   "source": [
    "\n",
    "i_paths = []\n",
    "for subfolder in ['akiec', 'bcc', 'bkl', 'df', 'mel', 'nv', 'vasc']:\n",
    "    folder_path = os.path.join(base_path, subfolder)\n",
    "    image_paths = glob(os.path.join(folder_path, '*.*'))  # Get all files\n",
    "    i_paths.extend(image_paths)\n",
    "\n",
    "# Print first few paths to verify\n",
    "print(\"Number of images found:\", len(i_paths))\n",
    "if len(i_paths) > 0:\n",
    "    print(\"First image path:\", i_paths[0])\n",
    "    # Try reading the first image\n",
    "    img = cv2.imread(i_paths[0])\n",
    "    if img is not None:\n",
    "        print('width: {}\\nheight: {}'.format(img.shape[1], img.shape[0]))\n",
    "    else:\n",
    "        print(\"Failed to read image\")\n",
    "else:\n",
    "    print(\"No images found in the directories\")"
   ]
  },
  {
   "cell_type": "markdown",
   "metadata": {},
   "source": [
    "Image Augmentation"
   ]
  },
  {
   "cell_type": "code",
   "execution_count": 7,
   "metadata": {},
   "outputs": [],
   "source": [
    "def crop_center(img, crop_width, crop_height):\n",
    "    \"\"\"Crop the center of an image.\"\"\"\n",
    "    h, w, _ = img.shape\n",
    "    start_x = max((w - crop_width) // 2, 0)\n",
    "    start_y = max((h - crop_height) // 2, 0)\n",
    "    return img[start_y:start_y + crop_height, start_x:start_x + crop_width]\n",
    "\n",
    "# Create a directory for processed images\n",
    "output_base = 'processed_images'\n",
    "os.makedirs(output_base, exist_ok=True)\n",
    "\n",
    "# Get all subdirectories in HAM10000_Images\n",
    "base_path = r\"d:\\term 4\\Studio\\Skin\\Skin-Cancer-Detection-App\\Ml_Model\\data\\HAM10000_Images\"\n",
    "d_paths = [os.path.join(base_path, d) for d in os.listdir(base_path) if os.path.isdir(os.path.join(base_path, d))]\n",
    "\n",
    "for d_path in d_paths:\n",
    "    # Get directory name from path\n",
    "    dir_name = os.path.basename(d_path)\n",
    "    \n",
    "    # Create subdirectory for each class\n",
    "    current_dir = os.path.join(output_base, dir_name)\n",
    "    os.makedirs(current_dir, exist_ok=True)\n",
    "    \n",
    "    # Get all images in current directory\n",
    "    i_paths = glob(os.path.join(d_path, '*'))\n",
    "    \n",
    "    for i_path in i_paths:\n",
    "        # Get image name\n",
    "        i_name = os.path.basename(i_path)\n",
    "        \n",
    "        # Read and process image\n",
    "        img = cv2.imread(i_path)\n",
    "        if img is not None:\n",
    "            edge = min(img.shape[0], img.shape[1])\n",
    "            img = crop_center(img, edge, edge)\n",
    "            img = cv2.resize(img, (128, 128))\n",
    "            \n",
    "            # Save processed image\n",
    "            output_path = os.path.join(current_dir, i_name)\n",
    "            try:\n",
    "                cv2.imwrite(output_path, img)\n",
    "            except Exception as e:\n",
    "                print(f\"Error saving image: {output_path}\")\n",
    "                print(e)\n",
    "        else:\n",
    "            print(f\"Failed to read image: {i_path}\")\n"
   ]
  },
  {
   "cell_type": "markdown",
   "metadata": {},
   "source": [
    "DATA PREPARATION FOR TESTING AND TRAINING"
   ]
  },
  {
   "cell_type": "code",
   "execution_count": 8,
   "metadata": {},
   "outputs": [
    {
     "name": "stdout",
     "output_type": "stream",
     "text": [
      "Found 10015 files belonging to 7 classes.\n",
      "Using 8012 files for training.\n",
      "Using 2003 files for validation.\n"
     ]
    }
   ],
   "source": [
    "train_ds, test_val_ds = tf.keras.utils.image_dataset_from_directory(\n",
    "    'processed_images',\n",
    "    validation_split=0.2,\n",
    "    subset='both',\n",
    "    seed=123,\n",
    "    image_size=(128, 128),\n",
    "    batch_size=16\n",
    ")"
   ]
  },
  {
   "cell_type": "code",
   "execution_count": 9,
   "metadata": {},
   "outputs": [],
   "source": [
    "test_val_ds_size = tf.data.experimental.cardinality(test_val_ds).numpy()\n",
    "test_val_split_size = int(0.5 * test_val_ds_size)\n",
    "\n",
    "validation_ds = test_val_ds.take(test_val_split_size)\n",
    "test_ds = test_val_ds.skip(test_val_split_size)"
   ]
  },
  {
   "cell_type": "code",
   "execution_count": 10,
   "metadata": {},
   "outputs": [
    {
     "name": "stdout",
     "output_type": "stream",
     "text": [
      "['akiec', 'bcc', 'bkl', 'df', 'mel', 'nv', 'vasc']\n"
     ]
    }
   ],
   "source": [
    "names = train_ds.class_names\n",
    "num_classes = len(names)\n",
    "\n",
    "print(names)"
   ]
  },
  {
   "cell_type": "markdown",
   "metadata": {},
   "source": [
    "Model"
   ]
  },
  {
   "cell_type": "code",
   "execution_count": 11,
   "metadata": {},
   "outputs": [],
   "source": [
    "from tensorflow import keras\n",
    "from tensorflow.keras import layers\n",
    "from tensorflow.keras.models import Sequential"
   ]
  },
  {
   "cell_type": "code",
   "execution_count": 12,
   "metadata": {},
   "outputs": [],
   "source": [
    "model = Sequential([\n",
    "    layers.Input(shape=[128, 128, 3]),\n",
    "    layers.Rescaling(1./255),\n",
    "    layers.Conv2D(16, 3, padding='same', activation='relu'),\n",
    "    layers.MaxPooling2D(),\n",
    "    layers.Conv2D(32, 3, padding='same', activation='relu'),\n",
    "    layers.MaxPooling2D(),\n",
    "    layers.Conv2D(64, 3, padding='same', activation='relu'),\n",
    "    layers.MaxPooling2D(),\n",
    "    layers.Flatten(),\n",
    "    layers.Dense(128, activation='relu'),\n",
    "    layers.Dense(num_classes)\n",
    "])"
   ]
  },
  {
   "cell_type": "code",
   "execution_count": 13,
   "metadata": {},
   "outputs": [],
   "source": [
    "model.compile(\n",
    "    optimizer='adam',\n",
    "    loss=tf.keras.losses.SparseCategoricalCrossentropy(from_logits=True),\n",
    "    metrics=['accuracy']\n",
    ")"
   ]
  },
  {
   "cell_type": "code",
   "execution_count": 14,
   "metadata": {},
   "outputs": [
    {
     "data": {
      "text/html": [
       "<pre style=\"white-space:pre;overflow-x:auto;line-height:normal;font-family:Menlo,'DejaVu Sans Mono',consolas,'Courier New',monospace\"><span style=\"font-weight: bold\">Model: \"sequential\"</span>\n",
       "</pre>\n"
      ],
      "text/plain": [
       "\u001b[1mModel: \"sequential\"\u001b[0m\n"
      ]
     },
     "metadata": {},
     "output_type": "display_data"
    },
    {
     "data": {
      "text/html": [
       "<pre style=\"white-space:pre;overflow-x:auto;line-height:normal;font-family:Menlo,'DejaVu Sans Mono',consolas,'Courier New',monospace\">┏━━━━━━━━━━━━━━━━━━━━━━━━━━━━━━━━━┳━━━━━━━━━━━━━━━━━━━━━━━━┳━━━━━━━━━━━━━━━┓\n",
       "┃<span style=\"font-weight: bold\"> Layer (type)                    </span>┃<span style=\"font-weight: bold\"> Output Shape           </span>┃<span style=\"font-weight: bold\">       Param # </span>┃\n",
       "┡━━━━━━━━━━━━━━━━━━━━━━━━━━━━━━━━━╇━━━━━━━━━━━━━━━━━━━━━━━━╇━━━━━━━━━━━━━━━┩\n",
       "│ rescaling (<span style=\"color: #0087ff; text-decoration-color: #0087ff\">Rescaling</span>)           │ (<span style=\"color: #00d7ff; text-decoration-color: #00d7ff\">None</span>, <span style=\"color: #00af00; text-decoration-color: #00af00\">128</span>, <span style=\"color: #00af00; text-decoration-color: #00af00\">128</span>, <span style=\"color: #00af00; text-decoration-color: #00af00\">3</span>)    │             <span style=\"color: #00af00; text-decoration-color: #00af00\">0</span> │\n",
       "├─────────────────────────────────┼────────────────────────┼───────────────┤\n",
       "│ conv2d (<span style=\"color: #0087ff; text-decoration-color: #0087ff\">Conv2D</span>)                 │ (<span style=\"color: #00d7ff; text-decoration-color: #00d7ff\">None</span>, <span style=\"color: #00af00; text-decoration-color: #00af00\">128</span>, <span style=\"color: #00af00; text-decoration-color: #00af00\">128</span>, <span style=\"color: #00af00; text-decoration-color: #00af00\">16</span>)   │           <span style=\"color: #00af00; text-decoration-color: #00af00\">448</span> │\n",
       "├─────────────────────────────────┼────────────────────────┼───────────────┤\n",
       "│ max_pooling2d (<span style=\"color: #0087ff; text-decoration-color: #0087ff\">MaxPooling2D</span>)    │ (<span style=\"color: #00d7ff; text-decoration-color: #00d7ff\">None</span>, <span style=\"color: #00af00; text-decoration-color: #00af00\">64</span>, <span style=\"color: #00af00; text-decoration-color: #00af00\">64</span>, <span style=\"color: #00af00; text-decoration-color: #00af00\">16</span>)     │             <span style=\"color: #00af00; text-decoration-color: #00af00\">0</span> │\n",
       "├─────────────────────────────────┼────────────────────────┼───────────────┤\n",
       "│ conv2d_1 (<span style=\"color: #0087ff; text-decoration-color: #0087ff\">Conv2D</span>)               │ (<span style=\"color: #00d7ff; text-decoration-color: #00d7ff\">None</span>, <span style=\"color: #00af00; text-decoration-color: #00af00\">64</span>, <span style=\"color: #00af00; text-decoration-color: #00af00\">64</span>, <span style=\"color: #00af00; text-decoration-color: #00af00\">32</span>)     │         <span style=\"color: #00af00; text-decoration-color: #00af00\">4,640</span> │\n",
       "├─────────────────────────────────┼────────────────────────┼───────────────┤\n",
       "│ max_pooling2d_1 (<span style=\"color: #0087ff; text-decoration-color: #0087ff\">MaxPooling2D</span>)  │ (<span style=\"color: #00d7ff; text-decoration-color: #00d7ff\">None</span>, <span style=\"color: #00af00; text-decoration-color: #00af00\">32</span>, <span style=\"color: #00af00; text-decoration-color: #00af00\">32</span>, <span style=\"color: #00af00; text-decoration-color: #00af00\">32</span>)     │             <span style=\"color: #00af00; text-decoration-color: #00af00\">0</span> │\n",
       "├─────────────────────────────────┼────────────────────────┼───────────────┤\n",
       "│ conv2d_2 (<span style=\"color: #0087ff; text-decoration-color: #0087ff\">Conv2D</span>)               │ (<span style=\"color: #00d7ff; text-decoration-color: #00d7ff\">None</span>, <span style=\"color: #00af00; text-decoration-color: #00af00\">32</span>, <span style=\"color: #00af00; text-decoration-color: #00af00\">32</span>, <span style=\"color: #00af00; text-decoration-color: #00af00\">64</span>)     │        <span style=\"color: #00af00; text-decoration-color: #00af00\">18,496</span> │\n",
       "├─────────────────────────────────┼────────────────────────┼───────────────┤\n",
       "│ max_pooling2d_2 (<span style=\"color: #0087ff; text-decoration-color: #0087ff\">MaxPooling2D</span>)  │ (<span style=\"color: #00d7ff; text-decoration-color: #00d7ff\">None</span>, <span style=\"color: #00af00; text-decoration-color: #00af00\">16</span>, <span style=\"color: #00af00; text-decoration-color: #00af00\">16</span>, <span style=\"color: #00af00; text-decoration-color: #00af00\">64</span>)     │             <span style=\"color: #00af00; text-decoration-color: #00af00\">0</span> │\n",
       "├─────────────────────────────────┼────────────────────────┼───────────────┤\n",
       "│ flatten (<span style=\"color: #0087ff; text-decoration-color: #0087ff\">Flatten</span>)               │ (<span style=\"color: #00d7ff; text-decoration-color: #00d7ff\">None</span>, <span style=\"color: #00af00; text-decoration-color: #00af00\">16384</span>)          │             <span style=\"color: #00af00; text-decoration-color: #00af00\">0</span> │\n",
       "├─────────────────────────────────┼────────────────────────┼───────────────┤\n",
       "│ dense (<span style=\"color: #0087ff; text-decoration-color: #0087ff\">Dense</span>)                   │ (<span style=\"color: #00d7ff; text-decoration-color: #00d7ff\">None</span>, <span style=\"color: #00af00; text-decoration-color: #00af00\">128</span>)            │     <span style=\"color: #00af00; text-decoration-color: #00af00\">2,097,280</span> │\n",
       "├─────────────────────────────────┼────────────────────────┼───────────────┤\n",
       "│ dense_1 (<span style=\"color: #0087ff; text-decoration-color: #0087ff\">Dense</span>)                 │ (<span style=\"color: #00d7ff; text-decoration-color: #00d7ff\">None</span>, <span style=\"color: #00af00; text-decoration-color: #00af00\">7</span>)              │           <span style=\"color: #00af00; text-decoration-color: #00af00\">903</span> │\n",
       "└─────────────────────────────────┴────────────────────────┴───────────────┘\n",
       "</pre>\n"
      ],
      "text/plain": [
       "┏━━━━━━━━━━━━━━━━━━━━━━━━━━━━━━━━━┳━━━━━━━━━━━━━━━━━━━━━━━━┳━━━━━━━━━━━━━━━┓\n",
       "┃\u001b[1m \u001b[0m\u001b[1mLayer (type)                   \u001b[0m\u001b[1m \u001b[0m┃\u001b[1m \u001b[0m\u001b[1mOutput Shape          \u001b[0m\u001b[1m \u001b[0m┃\u001b[1m \u001b[0m\u001b[1m      Param #\u001b[0m\u001b[1m \u001b[0m┃\n",
       "┡━━━━━━━━━━━━━━━━━━━━━━━━━━━━━━━━━╇━━━━━━━━━━━━━━━━━━━━━━━━╇━━━━━━━━━━━━━━━┩\n",
       "│ rescaling (\u001b[38;5;33mRescaling\u001b[0m)           │ (\u001b[38;5;45mNone\u001b[0m, \u001b[38;5;34m128\u001b[0m, \u001b[38;5;34m128\u001b[0m, \u001b[38;5;34m3\u001b[0m)    │             \u001b[38;5;34m0\u001b[0m │\n",
       "├─────────────────────────────────┼────────────────────────┼───────────────┤\n",
       "│ conv2d (\u001b[38;5;33mConv2D\u001b[0m)                 │ (\u001b[38;5;45mNone\u001b[0m, \u001b[38;5;34m128\u001b[0m, \u001b[38;5;34m128\u001b[0m, \u001b[38;5;34m16\u001b[0m)   │           \u001b[38;5;34m448\u001b[0m │\n",
       "├─────────────────────────────────┼────────────────────────┼───────────────┤\n",
       "│ max_pooling2d (\u001b[38;5;33mMaxPooling2D\u001b[0m)    │ (\u001b[38;5;45mNone\u001b[0m, \u001b[38;5;34m64\u001b[0m, \u001b[38;5;34m64\u001b[0m, \u001b[38;5;34m16\u001b[0m)     │             \u001b[38;5;34m0\u001b[0m │\n",
       "├─────────────────────────────────┼────────────────────────┼───────────────┤\n",
       "│ conv2d_1 (\u001b[38;5;33mConv2D\u001b[0m)               │ (\u001b[38;5;45mNone\u001b[0m, \u001b[38;5;34m64\u001b[0m, \u001b[38;5;34m64\u001b[0m, \u001b[38;5;34m32\u001b[0m)     │         \u001b[38;5;34m4,640\u001b[0m │\n",
       "├─────────────────────────────────┼────────────────────────┼───────────────┤\n",
       "│ max_pooling2d_1 (\u001b[38;5;33mMaxPooling2D\u001b[0m)  │ (\u001b[38;5;45mNone\u001b[0m, \u001b[38;5;34m32\u001b[0m, \u001b[38;5;34m32\u001b[0m, \u001b[38;5;34m32\u001b[0m)     │             \u001b[38;5;34m0\u001b[0m │\n",
       "├─────────────────────────────────┼────────────────────────┼───────────────┤\n",
       "│ conv2d_2 (\u001b[38;5;33mConv2D\u001b[0m)               │ (\u001b[38;5;45mNone\u001b[0m, \u001b[38;5;34m32\u001b[0m, \u001b[38;5;34m32\u001b[0m, \u001b[38;5;34m64\u001b[0m)     │        \u001b[38;5;34m18,496\u001b[0m │\n",
       "├─────────────────────────────────┼────────────────────────┼───────────────┤\n",
       "│ max_pooling2d_2 (\u001b[38;5;33mMaxPooling2D\u001b[0m)  │ (\u001b[38;5;45mNone\u001b[0m, \u001b[38;5;34m16\u001b[0m, \u001b[38;5;34m16\u001b[0m, \u001b[38;5;34m64\u001b[0m)     │             \u001b[38;5;34m0\u001b[0m │\n",
       "├─────────────────────────────────┼────────────────────────┼───────────────┤\n",
       "│ flatten (\u001b[38;5;33mFlatten\u001b[0m)               │ (\u001b[38;5;45mNone\u001b[0m, \u001b[38;5;34m16384\u001b[0m)          │             \u001b[38;5;34m0\u001b[0m │\n",
       "├─────────────────────────────────┼────────────────────────┼───────────────┤\n",
       "│ dense (\u001b[38;5;33mDense\u001b[0m)                   │ (\u001b[38;5;45mNone\u001b[0m, \u001b[38;5;34m128\u001b[0m)            │     \u001b[38;5;34m2,097,280\u001b[0m │\n",
       "├─────────────────────────────────┼────────────────────────┼───────────────┤\n",
       "│ dense_1 (\u001b[38;5;33mDense\u001b[0m)                 │ (\u001b[38;5;45mNone\u001b[0m, \u001b[38;5;34m7\u001b[0m)              │           \u001b[38;5;34m903\u001b[0m │\n",
       "└─────────────────────────────────┴────────────────────────┴───────────────┘\n"
      ]
     },
     "metadata": {},
     "output_type": "display_data"
    },
    {
     "data": {
      "text/html": [
       "<pre style=\"white-space:pre;overflow-x:auto;line-height:normal;font-family:Menlo,'DejaVu Sans Mono',consolas,'Courier New',monospace\"><span style=\"font-weight: bold\"> Total params: </span><span style=\"color: #00af00; text-decoration-color: #00af00\">2,121,767</span> (8.09 MB)\n",
       "</pre>\n"
      ],
      "text/plain": [
       "\u001b[1m Total params: \u001b[0m\u001b[38;5;34m2,121,767\u001b[0m (8.09 MB)\n"
      ]
     },
     "metadata": {},
     "output_type": "display_data"
    },
    {
     "data": {
      "text/html": [
       "<pre style=\"white-space:pre;overflow-x:auto;line-height:normal;font-family:Menlo,'DejaVu Sans Mono',consolas,'Courier New',monospace\"><span style=\"font-weight: bold\"> Trainable params: </span><span style=\"color: #00af00; text-decoration-color: #00af00\">2,121,767</span> (8.09 MB)\n",
       "</pre>\n"
      ],
      "text/plain": [
       "\u001b[1m Trainable params: \u001b[0m\u001b[38;5;34m2,121,767\u001b[0m (8.09 MB)\n"
      ]
     },
     "metadata": {},
     "output_type": "display_data"
    },
    {
     "data": {
      "text/html": [
       "<pre style=\"white-space:pre;overflow-x:auto;line-height:normal;font-family:Menlo,'DejaVu Sans Mono',consolas,'Courier New',monospace\"><span style=\"font-weight: bold\"> Non-trainable params: </span><span style=\"color: #00af00; text-decoration-color: #00af00\">0</span> (0.00 B)\n",
       "</pre>\n"
      ],
      "text/plain": [
       "\u001b[1m Non-trainable params: \u001b[0m\u001b[38;5;34m0\u001b[0m (0.00 B)\n"
      ]
     },
     "metadata": {},
     "output_type": "display_data"
    }
   ],
   "source": [
    "model.summary()"
   ]
  },
  {
   "cell_type": "code",
   "execution_count": 15,
   "metadata": {},
   "outputs": [
    {
     "name": "stdout",
     "output_type": "stream",
     "text": [
      "Epoch 1/100\n",
      "\u001b[1m501/501\u001b[0m \u001b[32m━━━━━━━━━━━━━━━━━━━━\u001b[0m\u001b[37m\u001b[0m \u001b[1m40s\u001b[0m 75ms/step - accuracy: 0.6582 - loss: 1.0447 - val_accuracy: 0.7073 - val_loss: 0.8955\n",
      "Epoch 2/100\n",
      "\u001b[1m501/501\u001b[0m \u001b[32m━━━━━━━━━━━━━━━━━━━━\u001b[0m\u001b[37m\u001b[0m \u001b[1m28s\u001b[0m 55ms/step - accuracy: 0.6794 - loss: 0.8927 - val_accuracy: 0.7063 - val_loss: 0.8336\n",
      "Epoch 3/100\n",
      "\u001b[1m501/501\u001b[0m \u001b[32m━━━━━━━━━━━━━━━━━━━━\u001b[0m\u001b[37m\u001b[0m \u001b[1m28s\u001b[0m 55ms/step - accuracy: 0.7016 - loss: 0.8169 - val_accuracy: 0.7312 - val_loss: 0.8059\n",
      "Epoch 4/100\n",
      "\u001b[1m501/501\u001b[0m \u001b[32m━━━━━━━━━━━━━━━━━━━━\u001b[0m\u001b[37m\u001b[0m \u001b[1m27s\u001b[0m 54ms/step - accuracy: 0.7215 - loss: 0.7630 - val_accuracy: 0.7133 - val_loss: 0.7390\n",
      "Epoch 5/100\n",
      "\u001b[1m501/501\u001b[0m \u001b[32m━━━━━━━━━━━━━━━━━━━━\u001b[0m\u001b[37m\u001b[0m \u001b[1m31s\u001b[0m 61ms/step - accuracy: 0.7474 - loss: 0.6769 - val_accuracy: 0.7202 - val_loss: 0.8054\n",
      "Epoch 6/100\n",
      "\u001b[1m501/501\u001b[0m \u001b[32m━━━━━━━━━━━━━━━━━━━━\u001b[0m\u001b[37m\u001b[0m \u001b[1m31s\u001b[0m 61ms/step - accuracy: 0.7713 - loss: 0.6216 - val_accuracy: 0.7371 - val_loss: 0.8036\n",
      "Epoch 7/100\n",
      "\u001b[1m501/501\u001b[0m \u001b[32m━━━━━━━━━━━━━━━━━━━━\u001b[0m\u001b[37m\u001b[0m \u001b[1m32s\u001b[0m 63ms/step - accuracy: 0.7878 - loss: 0.5627 - val_accuracy: 0.7331 - val_loss: 0.7807\n",
      "Epoch 8/100\n",
      "\u001b[1m501/501\u001b[0m \u001b[32m━━━━━━━━━━━━━━━━━━━━\u001b[0m\u001b[37m\u001b[0m \u001b[1m159s\u001b[0m 317ms/step - accuracy: 0.8163 - loss: 0.4863 - val_accuracy: 0.7401 - val_loss: 0.8298\n",
      "Epoch 9/100\n",
      "\u001b[1m501/501\u001b[0m \u001b[32m━━━━━━━━━━━━━━━━━━━━\u001b[0m\u001b[37m\u001b[0m \u001b[1m28s\u001b[0m 57ms/step - accuracy: 0.8377 - loss: 0.4213 - val_accuracy: 0.7480 - val_loss: 0.8624\n",
      "Epoch 10/100\n",
      "\u001b[1m501/501\u001b[0m \u001b[32m━━━━━━━━━━━━━━━━━━━━\u001b[0m\u001b[37m\u001b[0m \u001b[1m28s\u001b[0m 56ms/step - accuracy: 0.8747 - loss: 0.3411 - val_accuracy: 0.7411 - val_loss: 0.9697\n",
      "Epoch 11/100\n",
      "\u001b[1m501/501\u001b[0m \u001b[32m━━━━━━━━━━━━━━━━━━━━\u001b[0m\u001b[37m\u001b[0m \u001b[1m28s\u001b[0m 55ms/step - accuracy: 0.8886 - loss: 0.2925 - val_accuracy: 0.7470 - val_loss: 1.1183\n",
      "Epoch 12/100\n",
      "\u001b[1m501/501\u001b[0m \u001b[32m━━━━━━━━━━━━━━━━━━━━\u001b[0m\u001b[37m\u001b[0m \u001b[1m27s\u001b[0m 55ms/step - accuracy: 0.9108 - loss: 0.2395 - val_accuracy: 0.7331 - val_loss: 1.1783\n",
      "Epoch 13/100\n",
      "\u001b[1m501/501\u001b[0m \u001b[32m━━━━━━━━━━━━━━━━━━━━\u001b[0m\u001b[37m\u001b[0m \u001b[1m28s\u001b[0m 55ms/step - accuracy: 0.9334 - loss: 0.1877 - val_accuracy: 0.7133 - val_loss: 1.4217\n",
      "Epoch 14/100\n",
      "\u001b[1m501/501\u001b[0m \u001b[32m━━━━━━━━━━━━━━━━━━━━\u001b[0m\u001b[37m\u001b[0m \u001b[1m27s\u001b[0m 54ms/step - accuracy: 0.9421 - loss: 0.1613 - val_accuracy: 0.7262 - val_loss: 1.4013\n",
      "Epoch 15/100\n",
      "\u001b[1m501/501\u001b[0m \u001b[32m━━━━━━━━━━━━━━━━━━━━\u001b[0m\u001b[37m\u001b[0m \u001b[1m28s\u001b[0m 56ms/step - accuracy: 0.9437 - loss: 0.1557 - val_accuracy: 0.7202 - val_loss: 1.5361\n",
      "Epoch 16/100\n",
      "\u001b[1m501/501\u001b[0m \u001b[32m━━━━━━━━━━━━━━━━━━━━\u001b[0m\u001b[37m\u001b[0m \u001b[1m27s\u001b[0m 54ms/step - accuracy: 0.9681 - loss: 0.0971 - val_accuracy: 0.7163 - val_loss: 1.8846\n",
      "Epoch 17/100\n",
      "\u001b[1m501/501\u001b[0m \u001b[32m━━━━━━━━━━━━━━━━━━━━\u001b[0m\u001b[37m\u001b[0m \u001b[1m27s\u001b[0m 54ms/step - accuracy: 0.9681 - loss: 0.0912 - val_accuracy: 0.7173 - val_loss: 2.0694\n",
      "Epoch 18/100\n",
      "\u001b[1m501/501\u001b[0m \u001b[32m━━━━━━━━━━━━━━━━━━━━\u001b[0m\u001b[37m\u001b[0m \u001b[1m27s\u001b[0m 55ms/step - accuracy: 0.9642 - loss: 0.1021 - val_accuracy: 0.7202 - val_loss: 2.0533\n",
      "Epoch 19/100\n",
      "\u001b[1m501/501\u001b[0m \u001b[32m━━━━━━━━━━━━━━━━━━━━\u001b[0m\u001b[37m\u001b[0m \u001b[1m42s\u001b[0m 83ms/step - accuracy: 0.9784 - loss: 0.0677 - val_accuracy: 0.7133 - val_loss: 2.0794\n",
      "Epoch 20/100\n",
      "\u001b[1m501/501\u001b[0m \u001b[32m━━━━━━━━━━━━━━━━━━━━\u001b[0m\u001b[37m\u001b[0m \u001b[1m28s\u001b[0m 55ms/step - accuracy: 0.9643 - loss: 0.0984 - val_accuracy: 0.7083 - val_loss: 1.9560\n",
      "Epoch 21/100\n",
      "\u001b[1m501/501\u001b[0m \u001b[32m━━━━━━━━━━━━━━━━━━━━\u001b[0m\u001b[37m\u001b[0m \u001b[1m28s\u001b[0m 55ms/step - accuracy: 0.9698 - loss: 0.0958 - val_accuracy: 0.7173 - val_loss: 2.1039\n",
      "Epoch 22/100\n",
      "\u001b[1m501/501\u001b[0m \u001b[32m━━━━━━━━━━━━━━━━━━━━\u001b[0m\u001b[37m\u001b[0m \u001b[1m27s\u001b[0m 54ms/step - accuracy: 0.9875 - loss: 0.0405 - val_accuracy: 0.6895 - val_loss: 2.3748\n",
      "Epoch 23/100\n",
      "\u001b[1m501/501\u001b[0m \u001b[32m━━━━━━━━━━━━━━━━━━━━\u001b[0m\u001b[37m\u001b[0m \u001b[1m27s\u001b[0m 54ms/step - accuracy: 0.9833 - loss: 0.0527 - val_accuracy: 0.7063 - val_loss: 2.1526\n",
      "Epoch 24/100\n",
      "\u001b[1m501/501\u001b[0m \u001b[32m━━━━━━━━━━━━━━━━━━━━\u001b[0m\u001b[37m\u001b[0m \u001b[1m27s\u001b[0m 54ms/step - accuracy: 0.9781 - loss: 0.0698 - val_accuracy: 0.7073 - val_loss: 2.0283\n",
      "Epoch 25/100\n",
      "\u001b[1m501/501\u001b[0m \u001b[32m━━━━━━━━━━━━━━━━━━━━\u001b[0m\u001b[37m\u001b[0m \u001b[1m27s\u001b[0m 54ms/step - accuracy: 0.9783 - loss: 0.0662 - val_accuracy: 0.7202 - val_loss: 2.3755\n",
      "Epoch 26/100\n",
      "\u001b[1m501/501\u001b[0m \u001b[32m━━━━━━━━━━━━━━━━━━━━\u001b[0m\u001b[37m\u001b[0m \u001b[1m27s\u001b[0m 54ms/step - accuracy: 0.9844 - loss: 0.0531 - val_accuracy: 0.7202 - val_loss: 2.5060\n",
      "Epoch 27/100\n",
      "\u001b[1m501/501\u001b[0m \u001b[32m━━━━━━━━━━━━━━━━━━━━\u001b[0m\u001b[37m\u001b[0m \u001b[1m27s\u001b[0m 53ms/step - accuracy: 0.9873 - loss: 0.0382 - val_accuracy: 0.7202 - val_loss: 2.6731\n",
      "Epoch 28/100\n",
      "\u001b[1m501/501\u001b[0m \u001b[32m━━━━━━━━━━━━━━━━━━━━\u001b[0m\u001b[37m\u001b[0m \u001b[1m28s\u001b[0m 55ms/step - accuracy: 0.9910 - loss: 0.0316 - val_accuracy: 0.7183 - val_loss: 2.7017\n",
      "Epoch 29/100\n",
      "\u001b[1m501/501\u001b[0m \u001b[32m━━━━━━━━━━━━━━━━━━━━\u001b[0m\u001b[37m\u001b[0m \u001b[1m28s\u001b[0m 55ms/step - accuracy: 0.9891 - loss: 0.0342 - val_accuracy: 0.7004 - val_loss: 2.4464\n",
      "Epoch 30/100\n",
      "\u001b[1m501/501\u001b[0m \u001b[32m━━━━━━━━━━━━━━━━━━━━\u001b[0m\u001b[37m\u001b[0m \u001b[1m28s\u001b[0m 56ms/step - accuracy: 0.9882 - loss: 0.0367 - val_accuracy: 0.7173 - val_loss: 2.6146\n",
      "Epoch 31/100\n",
      "\u001b[1m501/501\u001b[0m \u001b[32m━━━━━━━━━━━━━━━━━━━━\u001b[0m\u001b[37m\u001b[0m \u001b[1m28s\u001b[0m 56ms/step - accuracy: 0.9812 - loss: 0.0583 - val_accuracy: 0.7143 - val_loss: 2.5124\n",
      "Epoch 32/100\n",
      "\u001b[1m501/501\u001b[0m \u001b[32m━━━━━━━━━━━━━━━━━━━━\u001b[0m\u001b[37m\u001b[0m \u001b[1m27s\u001b[0m 54ms/step - accuracy: 0.9888 - loss: 0.0354 - val_accuracy: 0.7222 - val_loss: 2.6956\n",
      "Epoch 33/100\n",
      "\u001b[1m501/501\u001b[0m \u001b[32m━━━━━━━━━━━━━━━━━━━━\u001b[0m\u001b[37m\u001b[0m \u001b[1m27s\u001b[0m 54ms/step - accuracy: 0.9870 - loss: 0.0378 - val_accuracy: 0.7192 - val_loss: 2.8289\n",
      "Epoch 34/100\n",
      "\u001b[1m501/501\u001b[0m \u001b[32m━━━━━━━━━━━━━━━━━━━━\u001b[0m\u001b[37m\u001b[0m \u001b[1m27s\u001b[0m 55ms/step - accuracy: 0.9906 - loss: 0.0358 - val_accuracy: 0.7073 - val_loss: 2.9930\n",
      "Epoch 35/100\n",
      "\u001b[1m501/501\u001b[0m \u001b[32m━━━━━━━━━━━━━━━━━━━━\u001b[0m\u001b[37m\u001b[0m \u001b[1m29s\u001b[0m 58ms/step - accuracy: 0.9879 - loss: 0.0351 - val_accuracy: 0.7183 - val_loss: 2.7361\n",
      "Epoch 36/100\n",
      "\u001b[1m501/501\u001b[0m \u001b[32m━━━━━━━━━━━━━━━━━━━━\u001b[0m\u001b[37m\u001b[0m \u001b[1m34s\u001b[0m 67ms/step - accuracy: 0.9926 - loss: 0.0248 - val_accuracy: 0.7083 - val_loss: 2.5553\n",
      "Epoch 37/100\n",
      "\u001b[1m501/501\u001b[0m \u001b[32m━━━━━━━━━━━━━━━━━━━━\u001b[0m\u001b[37m\u001b[0m \u001b[1m62s\u001b[0m 124ms/step - accuracy: 0.9964 - loss: 0.0146 - val_accuracy: 0.7153 - val_loss: 3.2094\n",
      "Epoch 38/100\n",
      "\u001b[1m501/501\u001b[0m \u001b[32m━━━━━━━━━━━━━━━━━━━━\u001b[0m\u001b[37m\u001b[0m \u001b[1m28s\u001b[0m 55ms/step - accuracy: 0.9826 - loss: 0.0565 - val_accuracy: 0.7153 - val_loss: 2.9810\n",
      "Epoch 39/100\n",
      "\u001b[1m501/501\u001b[0m \u001b[32m━━━━━━━━━━━━━━━━━━━━\u001b[0m\u001b[37m\u001b[0m \u001b[1m28s\u001b[0m 56ms/step - accuracy: 0.9904 - loss: 0.0321 - val_accuracy: 0.7163 - val_loss: 2.9882\n",
      "Epoch 40/100\n",
      "\u001b[1m501/501\u001b[0m \u001b[32m━━━━━━━━━━━━━━━━━━━━\u001b[0m\u001b[37m\u001b[0m \u001b[1m29s\u001b[0m 57ms/step - accuracy: 0.9927 - loss: 0.0193 - val_accuracy: 0.6984 - val_loss: 3.2813\n",
      "Epoch 41/100\n",
      "\u001b[1m501/501\u001b[0m \u001b[32m━━━━━━━━━━━━━━━━━━━━\u001b[0m\u001b[37m\u001b[0m \u001b[1m27s\u001b[0m 54ms/step - accuracy: 0.9924 - loss: 0.0267 - val_accuracy: 0.7123 - val_loss: 3.3141\n",
      "Epoch 42/100\n",
      "\u001b[1m501/501\u001b[0m \u001b[32m━━━━━━━━━━━━━━━━━━━━\u001b[0m\u001b[37m\u001b[0m \u001b[1m27s\u001b[0m 54ms/step - accuracy: 0.9864 - loss: 0.0415 - val_accuracy: 0.7063 - val_loss: 3.2639\n",
      "Epoch 43/100\n",
      "\u001b[1m501/501\u001b[0m \u001b[32m━━━━━━━━━━━━━━━━━━━━\u001b[0m\u001b[37m\u001b[0m \u001b[1m27s\u001b[0m 55ms/step - accuracy: 0.9938 - loss: 0.0215 - val_accuracy: 0.7054 - val_loss: 2.8843\n",
      "Epoch 44/100\n",
      "\u001b[1m501/501\u001b[0m \u001b[32m━━━━━━━━━━━━━━━━━━━━\u001b[0m\u001b[37m\u001b[0m \u001b[1m119s\u001b[0m 237ms/step - accuracy: 0.9921 - loss: 0.0265 - val_accuracy: 0.7123 - val_loss: 3.2558\n",
      "Epoch 45/100\n",
      "\u001b[1m501/501\u001b[0m \u001b[32m━━━━━━━━━━━━━━━━━━━━\u001b[0m\u001b[37m\u001b[0m \u001b[1m28s\u001b[0m 56ms/step - accuracy: 0.9933 - loss: 0.0247 - val_accuracy: 0.7143 - val_loss: 3.3652\n",
      "Epoch 46/100\n",
      "\u001b[1m501/501\u001b[0m \u001b[32m━━━━━━━━━━━━━━━━━━━━\u001b[0m\u001b[37m\u001b[0m \u001b[1m27s\u001b[0m 54ms/step - accuracy: 0.9927 - loss: 0.0244 - val_accuracy: 0.6925 - val_loss: 3.1388\n",
      "Epoch 47/100\n",
      "\u001b[1m501/501\u001b[0m \u001b[32m━━━━━━━━━━━━━━━━━━━━\u001b[0m\u001b[37m\u001b[0m \u001b[1m28s\u001b[0m 55ms/step - accuracy: 0.9933 - loss: 0.0194 - val_accuracy: 0.7153 - val_loss: 3.4293\n",
      "Epoch 48/100\n",
      "\u001b[1m501/501\u001b[0m \u001b[32m━━━━━━━━━━━━━━━━━━━━\u001b[0m\u001b[37m\u001b[0m \u001b[1m27s\u001b[0m 53ms/step - accuracy: 0.9887 - loss: 0.0379 - val_accuracy: 0.7113 - val_loss: 3.1033\n",
      "Epoch 49/100\n",
      "\u001b[1m501/501\u001b[0m \u001b[32m━━━━━━━━━━━━━━━━━━━━\u001b[0m\u001b[37m\u001b[0m \u001b[1m27s\u001b[0m 53ms/step - accuracy: 0.9918 - loss: 0.0311 - val_accuracy: 0.7034 - val_loss: 3.4551\n",
      "Epoch 50/100\n",
      "\u001b[1m501/501\u001b[0m \u001b[32m━━━━━━━━━━━━━━━━━━━━\u001b[0m\u001b[37m\u001b[0m \u001b[1m27s\u001b[0m 55ms/step - accuracy: 0.9923 - loss: 0.0295 - val_accuracy: 0.6954 - val_loss: 3.3879\n",
      "Epoch 51/100\n",
      "\u001b[1m501/501\u001b[0m \u001b[32m━━━━━━━━━━━━━━━━━━━━\u001b[0m\u001b[37m\u001b[0m \u001b[1m103s\u001b[0m 206ms/step - accuracy: 0.9970 - loss: 0.0099 - val_accuracy: 0.7083 - val_loss: 3.5533\n",
      "Epoch 52/100\n",
      "\u001b[1m501/501\u001b[0m \u001b[32m━━━━━━━━━━━━━━━━━━━━\u001b[0m\u001b[37m\u001b[0m \u001b[1m30s\u001b[0m 59ms/step - accuracy: 0.9964 - loss: 0.0159 - val_accuracy: 0.7034 - val_loss: 3.5332\n",
      "Epoch 53/100\n",
      "\u001b[1m501/501\u001b[0m \u001b[32m━━━━━━━━━━━━━━━━━━━━\u001b[0m\u001b[37m\u001b[0m \u001b[1m29s\u001b[0m 57ms/step - accuracy: 0.9842 - loss: 0.0575 - val_accuracy: 0.7054 - val_loss: 3.4095\n",
      "Epoch 54/100\n",
      "\u001b[1m501/501\u001b[0m \u001b[32m━━━━━━━━━━━━━━━━━━━━\u001b[0m\u001b[37m\u001b[0m \u001b[1m28s\u001b[0m 56ms/step - accuracy: 0.9950 - loss: 0.0157 - val_accuracy: 0.6935 - val_loss: 3.5836\n",
      "Epoch 55/100\n",
      "\u001b[1m501/501\u001b[0m \u001b[32m━━━━━━━━━━━━━━━━━━━━\u001b[0m\u001b[37m\u001b[0m \u001b[1m28s\u001b[0m 55ms/step - accuracy: 0.9982 - loss: 0.0056 - val_accuracy: 0.7063 - val_loss: 3.8191\n",
      "Epoch 56/100\n",
      "\u001b[1m501/501\u001b[0m \u001b[32m━━━━━━━━━━━━━━━━━━━━\u001b[0m\u001b[37m\u001b[0m \u001b[1m28s\u001b[0m 55ms/step - accuracy: 0.9936 - loss: 0.0213 - val_accuracy: 0.7014 - val_loss: 3.7131\n",
      "Epoch 57/100\n",
      "\u001b[1m501/501\u001b[0m \u001b[32m━━━━━━━━━━━━━━━━━━━━\u001b[0m\u001b[37m\u001b[0m \u001b[1m28s\u001b[0m 56ms/step - accuracy: 0.9874 - loss: 0.0367 - val_accuracy: 0.7183 - val_loss: 4.1027\n",
      "Epoch 58/100\n",
      "\u001b[1m501/501\u001b[0m \u001b[32m━━━━━━━━━━━━━━━━━━━━\u001b[0m\u001b[37m\u001b[0m \u001b[1m29s\u001b[0m 59ms/step - accuracy: 0.9940 - loss: 0.0163 - val_accuracy: 0.7063 - val_loss: 3.9470\n",
      "Epoch 59/100\n",
      "\u001b[1m501/501\u001b[0m \u001b[32m━━━━━━━━━━━━━━━━━━━━\u001b[0m\u001b[37m\u001b[0m \u001b[1m29s\u001b[0m 57ms/step - accuracy: 0.9966 - loss: 0.0130 - val_accuracy: 0.7034 - val_loss: 3.5364\n",
      "Epoch 60/100\n",
      "\u001b[1m501/501\u001b[0m \u001b[32m━━━━━━━━━━━━━━━━━━━━\u001b[0m\u001b[37m\u001b[0m \u001b[1m27s\u001b[0m 54ms/step - accuracy: 0.9892 - loss: 0.0412 - val_accuracy: 0.7063 - val_loss: 3.7766\n",
      "Epoch 61/100\n",
      "\u001b[1m501/501\u001b[0m \u001b[32m━━━━━━━━━━━━━━━━━━━━\u001b[0m\u001b[37m\u001b[0m \u001b[1m27s\u001b[0m 55ms/step - accuracy: 0.9930 - loss: 0.0212 - val_accuracy: 0.6865 - val_loss: 4.1704\n",
      "Epoch 62/100\n",
      "\u001b[1m501/501\u001b[0m \u001b[32m━━━━━━━━━━━━━━━━━━━━\u001b[0m\u001b[37m\u001b[0m \u001b[1m27s\u001b[0m 54ms/step - accuracy: 0.9962 - loss: 0.0147 - val_accuracy: 0.7014 - val_loss: 3.8009\n",
      "Epoch 63/100\n",
      "\u001b[1m501/501\u001b[0m \u001b[32m━━━━━━━━━━━━━━━━━━━━\u001b[0m\u001b[37m\u001b[0m \u001b[1m27s\u001b[0m 54ms/step - accuracy: 0.9977 - loss: 0.0089 - val_accuracy: 0.6667 - val_loss: 4.1077\n",
      "Epoch 64/100\n",
      "\u001b[1m501/501\u001b[0m \u001b[32m━━━━━━━━━━━━━━━━━━━━\u001b[0m\u001b[37m\u001b[0m \u001b[1m27s\u001b[0m 55ms/step - accuracy: 0.9908 - loss: 0.0350 - val_accuracy: 0.7004 - val_loss: 4.0972\n",
      "Epoch 65/100\n",
      "\u001b[1m501/501\u001b[0m \u001b[32m━━━━━━━━━━━━━━━━━━━━\u001b[0m\u001b[37m\u001b[0m \u001b[1m28s\u001b[0m 55ms/step - accuracy: 0.9940 - loss: 0.0179 - val_accuracy: 0.7133 - val_loss: 3.6175\n",
      "Epoch 66/100\n",
      "\u001b[1m501/501\u001b[0m \u001b[32m━━━━━━━━━━━━━━━━━━━━\u001b[0m\u001b[37m\u001b[0m \u001b[1m28s\u001b[0m 56ms/step - accuracy: 0.9959 - loss: 0.0136 - val_accuracy: 0.6974 - val_loss: 3.7970\n",
      "Epoch 67/100\n",
      "\u001b[1m501/501\u001b[0m \u001b[32m━━━━━━━━━━━━━━━━━━━━\u001b[0m\u001b[37m\u001b[0m \u001b[1m29s\u001b[0m 57ms/step - accuracy: 0.9936 - loss: 0.0211 - val_accuracy: 0.7173 - val_loss: 3.8112\n",
      "Epoch 68/100\n",
      "\u001b[1m501/501\u001b[0m \u001b[32m━━━━━━━━━━━━━━━━━━━━\u001b[0m\u001b[37m\u001b[0m \u001b[1m29s\u001b[0m 58ms/step - accuracy: 0.9980 - loss: 0.0080 - val_accuracy: 0.6994 - val_loss: 4.2336\n",
      "Epoch 69/100\n",
      "\u001b[1m501/501\u001b[0m \u001b[32m━━━━━━━━━━━━━━━━━━━━\u001b[0m\u001b[37m\u001b[0m \u001b[1m27s\u001b[0m 54ms/step - accuracy: 0.9912 - loss: 0.0328 - val_accuracy: 0.7103 - val_loss: 4.2580\n",
      "Epoch 70/100\n",
      "\u001b[1m501/501\u001b[0m \u001b[32m━━━━━━━━━━━━━━━━━━━━\u001b[0m\u001b[37m\u001b[0m \u001b[1m28s\u001b[0m 56ms/step - accuracy: 0.9953 - loss: 0.0123 - val_accuracy: 0.7232 - val_loss: 4.5061\n",
      "Epoch 71/100\n",
      "\u001b[1m501/501\u001b[0m \u001b[32m━━━━━━━━━━━━━━━━━━━━\u001b[0m\u001b[37m\u001b[0m \u001b[1m28s\u001b[0m 56ms/step - accuracy: 0.9913 - loss: 0.0323 - val_accuracy: 0.7063 - val_loss: 4.0163\n",
      "Epoch 72/100\n",
      "\u001b[1m501/501\u001b[0m \u001b[32m━━━━━━━━━━━━━━━━━━━━\u001b[0m\u001b[37m\u001b[0m \u001b[1m28s\u001b[0m 57ms/step - accuracy: 0.9942 - loss: 0.0139 - val_accuracy: 0.7242 - val_loss: 3.9416\n",
      "Epoch 73/100\n",
      "\u001b[1m501/501\u001b[0m \u001b[32m━━━━━━━━━━━━━━━━━━━━\u001b[0m\u001b[37m\u001b[0m \u001b[1m28s\u001b[0m 57ms/step - accuracy: 0.9986 - loss: 0.0055 - val_accuracy: 0.7004 - val_loss: 4.0080\n",
      "Epoch 74/100\n",
      "\u001b[1m501/501\u001b[0m \u001b[32m━━━━━━━━━━━━━━━━━━━━\u001b[0m\u001b[37m\u001b[0m \u001b[1m27s\u001b[0m 55ms/step - accuracy: 0.9907 - loss: 0.0391 - val_accuracy: 0.6865 - val_loss: 4.4724\n",
      "Epoch 75/100\n",
      "\u001b[1m501/501\u001b[0m \u001b[32m━━━━━━━━━━━━━━━━━━━━\u001b[0m\u001b[37m\u001b[0m \u001b[1m27s\u001b[0m 55ms/step - accuracy: 0.9891 - loss: 0.0392 - val_accuracy: 0.7073 - val_loss: 3.7785\n",
      "Epoch 76/100\n",
      "\u001b[1m501/501\u001b[0m \u001b[32m━━━━━━━━━━━━━━━━━━━━\u001b[0m\u001b[37m\u001b[0m \u001b[1m27s\u001b[0m 54ms/step - accuracy: 0.9984 - loss: 0.0050 - val_accuracy: 0.6974 - val_loss: 4.1636\n",
      "Epoch 77/100\n",
      "\u001b[1m501/501\u001b[0m \u001b[32m━━━━━━━━━━━━━━━━━━━━\u001b[0m\u001b[37m\u001b[0m \u001b[1m28s\u001b[0m 56ms/step - accuracy: 0.9968 - loss: 0.0090 - val_accuracy: 0.7192 - val_loss: 4.1844\n",
      "Epoch 78/100\n",
      "\u001b[1m501/501\u001b[0m \u001b[32m━━━━━━━━━━━━━━━━━━━━\u001b[0m\u001b[37m\u001b[0m \u001b[1m28s\u001b[0m 56ms/step - accuracy: 0.9986 - loss: 0.0047 - val_accuracy: 0.7202 - val_loss: 4.3046\n",
      "Epoch 79/100\n",
      "\u001b[1m501/501\u001b[0m \u001b[32m━━━━━━━━━━━━━━━━━━━━\u001b[0m\u001b[37m\u001b[0m \u001b[1m28s\u001b[0m 55ms/step - accuracy: 1.0000 - loss: 2.5629e-04 - val_accuracy: 0.7202 - val_loss: 4.4322\n",
      "Epoch 80/100\n",
      "\u001b[1m501/501\u001b[0m \u001b[32m━━━━━━━━━━━━━━━━━━━━\u001b[0m\u001b[37m\u001b[0m \u001b[1m177s\u001b[0m 355ms/step - accuracy: 1.0000 - loss: 6.7833e-05 - val_accuracy: 0.7183 - val_loss: 4.4891\n",
      "Epoch 81/100\n",
      "\u001b[1m501/501\u001b[0m \u001b[32m━━━━━━━━━━━━━━━━━━━━\u001b[0m\u001b[37m\u001b[0m \u001b[1m29s\u001b[0m 58ms/step - accuracy: 1.0000 - loss: 4.0554e-05 - val_accuracy: 0.7192 - val_loss: 4.5398\n",
      "Epoch 82/100\n",
      "\u001b[1m501/501\u001b[0m \u001b[32m━━━━━━━━━━━━━━━━━━━━\u001b[0m\u001b[37m\u001b[0m \u001b[1m28s\u001b[0m 55ms/step - accuracy: 1.0000 - loss: 3.0595e-05 - val_accuracy: 0.7212 - val_loss: 4.5880\n",
      "Epoch 83/100\n",
      "\u001b[1m501/501\u001b[0m \u001b[32m━━━━━━━━━━━━━━━━━━━━\u001b[0m\u001b[37m\u001b[0m \u001b[1m29s\u001b[0m 57ms/step - accuracy: 1.0000 - loss: 2.3909e-05 - val_accuracy: 0.7212 - val_loss: 4.6370\n",
      "Epoch 84/100\n",
      "\u001b[1m501/501\u001b[0m \u001b[32m━━━━━━━━━━━━━━━━━━━━\u001b[0m\u001b[37m\u001b[0m \u001b[1m27s\u001b[0m 54ms/step - accuracy: 1.0000 - loss: 1.8692e-05 - val_accuracy: 0.7212 - val_loss: 4.6851\n",
      "Epoch 85/100\n",
      "\u001b[1m501/501\u001b[0m \u001b[32m━━━━━━━━━━━━━━━━━━━━\u001b[0m\u001b[37m\u001b[0m \u001b[1m27s\u001b[0m 55ms/step - accuracy: 1.0000 - loss: 1.4489e-05 - val_accuracy: 0.7222 - val_loss: 4.7368\n",
      "Epoch 86/100\n",
      "\u001b[1m501/501\u001b[0m \u001b[32m━━━━━━━━━━━━━━━━━━━━\u001b[0m\u001b[37m\u001b[0m \u001b[1m27s\u001b[0m 54ms/step - accuracy: 1.0000 - loss: 1.1719e-05 - val_accuracy: 0.7232 - val_loss: 4.7821\n",
      "Epoch 87/100\n",
      "\u001b[1m501/501\u001b[0m \u001b[32m━━━━━━━━━━━━━━━━━━━━\u001b[0m\u001b[37m\u001b[0m \u001b[1m28s\u001b[0m 56ms/step - accuracy: 1.0000 - loss: 8.7870e-06 - val_accuracy: 0.7212 - val_loss: 4.8322\n",
      "Epoch 88/100\n",
      "\u001b[1m501/501\u001b[0m \u001b[32m━━━━━━━━━━━━━━━━━━━━\u001b[0m\u001b[37m\u001b[0m \u001b[1m27s\u001b[0m 54ms/step - accuracy: 1.0000 - loss: 6.9792e-06 - val_accuracy: 0.7212 - val_loss: 4.8871\n",
      "Epoch 89/100\n",
      "\u001b[1m501/501\u001b[0m \u001b[32m━━━━━━━━━━━━━━━━━━━━\u001b[0m\u001b[37m\u001b[0m \u001b[1m28s\u001b[0m 57ms/step - accuracy: 1.0000 - loss: 5.6466e-06 - val_accuracy: 0.7212 - val_loss: 4.9420\n",
      "Epoch 90/100\n",
      "\u001b[1m501/501\u001b[0m \u001b[32m━━━━━━━━━━━━━━━━━━━━\u001b[0m\u001b[37m\u001b[0m \u001b[1m28s\u001b[0m 57ms/step - accuracy: 1.0000 - loss: 4.3970e-06 - val_accuracy: 0.7212 - val_loss: 4.9972\n",
      "Epoch 91/100\n",
      "\u001b[1m501/501\u001b[0m \u001b[32m━━━━━━━━━━━━━━━━━━━━\u001b[0m\u001b[37m\u001b[0m \u001b[1m27s\u001b[0m 55ms/step - accuracy: 1.0000 - loss: 3.4381e-06 - val_accuracy: 0.7212 - val_loss: 5.0592\n",
      "Epoch 92/100\n",
      "\u001b[1m501/501\u001b[0m \u001b[32m━━━━━━━━━━━━━━━━━━━━\u001b[0m\u001b[37m\u001b[0m \u001b[1m27s\u001b[0m 54ms/step - accuracy: 1.0000 - loss: 2.7203e-06 - val_accuracy: 0.7202 - val_loss: 5.1215\n",
      "Epoch 93/100\n",
      "\u001b[1m501/501\u001b[0m \u001b[32m━━━━━━━━━━━━━━━━━━━━\u001b[0m\u001b[37m\u001b[0m \u001b[1m27s\u001b[0m 54ms/step - accuracy: 1.0000 - loss: 2.1168e-06 - val_accuracy: 0.7212 - val_loss: 5.1831\n",
      "Epoch 94/100\n",
      "\u001b[1m501/501\u001b[0m \u001b[32m━━━━━━━━━━━━━━━━━━━━\u001b[0m\u001b[37m\u001b[0m \u001b[1m28s\u001b[0m 56ms/step - accuracy: 1.0000 - loss: 1.6618e-06 - val_accuracy: 0.7212 - val_loss: 5.2502\n",
      "Epoch 95/100\n",
      "\u001b[1m501/501\u001b[0m \u001b[32m━━━━━━━━━━━━━━━━━━━━\u001b[0m\u001b[37m\u001b[0m \u001b[1m27s\u001b[0m 55ms/step - accuracy: 1.0000 - loss: 1.2790e-06 - val_accuracy: 0.7222 - val_loss: 5.3167\n",
      "Epoch 96/100\n",
      "\u001b[1m501/501\u001b[0m \u001b[32m━━━━━━━━━━━━━━━━━━━━\u001b[0m\u001b[37m\u001b[0m \u001b[1m27s\u001b[0m 55ms/step - accuracy: 1.0000 - loss: 1.0072e-06 - val_accuracy: 0.7222 - val_loss: 5.3829\n",
      "Epoch 97/100\n",
      "\u001b[1m501/501\u001b[0m \u001b[32m━━━━━━━━━━━━━━━━━━━━\u001b[0m\u001b[37m\u001b[0m \u001b[1m27s\u001b[0m 55ms/step - accuracy: 1.0000 - loss: 7.7134e-07 - val_accuracy: 0.7212 - val_loss: 5.4488\n",
      "Epoch 98/100\n",
      "\u001b[1m501/501\u001b[0m \u001b[32m━━━━━━━━━━━━━━━━━━━━\u001b[0m\u001b[37m\u001b[0m \u001b[1m27s\u001b[0m 54ms/step - accuracy: 1.0000 - loss: 5.9592e-07 - val_accuracy: 0.7222 - val_loss: 5.5129\n",
      "Epoch 99/100\n",
      "\u001b[1m501/501\u001b[0m \u001b[32m━━━━━━━━━━━━━━━━━━━━\u001b[0m\u001b[37m\u001b[0m \u001b[1m27s\u001b[0m 55ms/step - accuracy: 1.0000 - loss: 4.6598e-07 - val_accuracy: 0.7212 - val_loss: 5.5793\n",
      "Epoch 100/100\n",
      "\u001b[1m501/501\u001b[0m \u001b[32m━━━━━━━━━━━━━━━━━━━━\u001b[0m\u001b[37m\u001b[0m \u001b[1m28s\u001b[0m 55ms/step - accuracy: 1.0000 - loss: 3.6556e-07 - val_accuracy: 0.7222 - val_loss: 5.6484\n"
     ]
    }
   ],
   "source": [
    "history = model.fit(\n",
    "    train_ds,\n",
    "    validation_data=validation_ds,\n",
    "    epochs=100\n",
    ")"
   ]
  },
  {
   "cell_type": "code",
   "execution_count": 16,
   "metadata": {},
   "outputs": [],
   "source": [
    "model.save(\"data/skin_cancer_model.keras\")\n"
   ]
  },
  {
   "cell_type": "code",
   "execution_count": 20,
   "metadata": {},
   "outputs": [
    {
     "name": "stdout",
     "output_type": "stream",
     "text": [
      "\u001b[1m63/63\u001b[0m \u001b[32m━━━━━━━━━━━━━━━━━━━━\u001b[0m\u001b[37m\u001b[0m \u001b[1m1s\u001b[0m 16ms/step - accuracy: 0.7249 - loss: 5.6806\n",
      "Test Accuracy: 73.17%\n"
     ]
    }
   ],
   "source": [
    "loss, acc = model.evaluate(test_ds)\n",
    "\n",
    "print(f\"Test Accuracy: {acc * 100:.2f}%\")"
   ]
  },
  {
   "cell_type": "code",
   "execution_count": 18,
   "metadata": {},
   "outputs": [
    {
     "name": "stdout",
     "output_type": "stream",
     "text": [
      "\u001b[1m1/1\u001b[0m \u001b[32m━━━━━━━━━━━━━━━━━━━━\u001b[0m\u001b[37m\u001b[0m \u001b[1m0s\u001b[0m 135ms/step\n",
      "Image: ISIC_0024308.jpg | Predicted: mel | Confidence: 90.36\n",
      "\u001b[1m1/1\u001b[0m \u001b[32m━━━━━━━━━━━━━━━━━━━━\u001b[0m\u001b[37m\u001b[0m \u001b[1m0s\u001b[0m 30ms/step\n",
      "Image: ISIC_0024371.jpg | Predicted: mel | Confidence: 90.25\n",
      "\u001b[1m1/1\u001b[0m \u001b[32m━━━━━━━━━━━━━━━━━━━━\u001b[0m\u001b[37m\u001b[0m \u001b[1m0s\u001b[0m 33ms/step\n",
      "Image: ISIC_0024418.jpg | Predicted: mel | Confidence: 90.02\n",
      "\u001b[1m1/1\u001b[0m \u001b[32m━━━━━━━━━━━━━━━━━━━━\u001b[0m\u001b[37m\u001b[0m \u001b[1m0s\u001b[0m 34ms/step\n",
      "Image: ISIC_0024457.jpg | Predicted: mel | Confidence: 90.14\n",
      "\u001b[1m1/1\u001b[0m \u001b[32m━━━━━━━━━━━━━━━━━━━━\u001b[0m\u001b[37m\u001b[0m \u001b[1m0s\u001b[0m 43ms/step\n",
      "Image: ISIC_0024459.jpg | Predicted: mel | Confidence: 90.75\n",
      "\u001b[1m1/1\u001b[0m \u001b[32m━━━━━━━━━━━━━━━━━━━━\u001b[0m\u001b[37m\u001b[0m \u001b[1m0s\u001b[0m 37ms/step\n",
      "Image: ISIC_0024904.jpg | Predicted: mel | Confidence: 90.05\n",
      "\u001b[1m1/1\u001b[0m \u001b[32m━━━━━━━━━━━━━━━━━━━━\u001b[0m\u001b[37m\u001b[0m \u001b[1m0s\u001b[0m 50ms/step\n",
      "Image: ISIC_0024973.jpg | Predicted: mel | Confidence: 90.38\n"
     ]
    }
   ],
   "source": [
    "# Load the trained model\n",
    "model = tf.keras.models.load_model(\"data/skin_cancer_model.keras\")\n",
    "\n",
    "# Define class labels (ensure these match your dataset labels)\n",
    "class_labels = [\"akiec\", \"bcc\", \"bkl\", \"df\", \"mel\", \"nv\", \"vasc\"]\n",
    "\n",
    "# Path to test images\n",
    "test_folder = \"data/test\"\n",
    "\n",
    "def preprocess_image(image_path):\n",
    "    \"\"\"Load and preprocess the image for model prediction\"\"\"\n",
    "    img = cv2.imread(image_path)\n",
    "    img = cv2.resize(img, (128, 128))  # Resize to match your model's input size\n",
    "    img = img / 255.0  # Normalize pixel values\n",
    "    img = np.expand_dims(img, axis=0)  # Add batch dimension\n",
    "    return img\n",
    "\n",
    "def predict_image(image_path):\n",
    "    \"\"\"Predict the class of the image\"\"\"\n",
    "    img = preprocess_image(image_path)\n",
    "    prediction = model.predict(img)\n",
    "    predicted_class = np.argmax(prediction)\n",
    "    return class_labels[predicted_class], prediction[0][predicted_class]\n",
    "\n",
    "# Iterate through test images and predict\n",
    "for image_name in os.listdir(test_folder):\n",
    "    image_path = os.path.join(test_folder, image_name)\n",
    "    predicted_class, confidence = predict_image(image_path)\n",
    "    print(f\"Image: {image_name} | Predicted: {predicted_class} | Confidence: {confidence:.2f}\")\n"
   ]
  }
 ],
 "metadata": {
  "kernelspec": {
   "display_name": "Python 3",
   "language": "python",
   "name": "python3"
  },
  "language_info": {
   "codemirror_mode": {
    "name": "ipython",
    "version": 3
   },
   "file_extension": ".py",
   "mimetype": "text/x-python",
   "name": "python",
   "nbconvert_exporter": "python",
   "pygments_lexer": "ipython3",
   "version": "3.11.2"
  }
 },
 "nbformat": 4,
 "nbformat_minor": 2
}

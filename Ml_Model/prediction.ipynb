{
 "cells": [
  {
   "cell_type": "code",
   "execution_count": 6,
   "metadata": {},
   "outputs": [
    {
     "name": "stdout",
     "output_type": "stream",
     "text": [
      " * Serving Flask app '__main__'\n",
      " * Debug mode: on\n"
     ]
    },
    {
     "name": "stderr",
     "output_type": "stream",
     "text": [
      "INFO:werkzeug:\u001b[31m\u001b[1mWARNING: This is a development server. Do not use it in a production deployment. Use a production WSGI server instead.\u001b[0m\n",
      " * Running on http://127.0.0.1:5000\n",
      "INFO:werkzeug:\u001b[33mPress CTRL+C to quit\u001b[0m\n",
      "INFO:werkzeug: * Restarting with stat\n"
     ]
    },
    {
     "ename": "SystemExit",
     "evalue": "1",
     "output_type": "error",
     "traceback": [
      "An exception has occurred, use %tb to see the full traceback.\n",
      "\u001b[1;31mSystemExit\u001b[0m\u001b[1;31m:\u001b[0m 1\n"
     ]
    }
   ],
   "source": [
    "from flask import Flask, request, jsonify\n",
    "import tensorflow as tf\n",
    "import numpy as np\n",
    "import cv2\n",
    "import io\n",
    "import logging\n",
    "from flask_cors import CORS\n",
    "\n",
    "# Initialize Flask app\n",
    "app = Flask(__name__)\n",
    "CORS(app)  # Enable CORS for cross-origin requests\n",
    "\n",
    "# Load the trained model\n",
    "try:\n",
    "    model = tf.keras.models.load_model(\"data/skin_cancer_model.keras\")\n",
    "except Exception as e:\n",
    "    logging.error(f\"Error loading model: {e}\")\n",
    "    model = None\n",
    "\n",
    "# Define class labels\n",
    "class_labels = [\"akiec\", \"bcc\", \"bkl\", \"df\", \"mel\", \"nv\", \"vasc\"]\n",
    "\n",
    "# Define recommendations\n",
    "recommendations = {\n",
    "    \"akiec\": \"Consult a dermatologist immediately.\",\n",
    "    \"bcc\": \"Requires medical attention; usually treated with surgery.\",\n",
    "    \"bkl\": \"Often benign but needs monitoring.\",\n",
    "    \"df\": \"Generally harmless, but consult a doctor for confirmation.\",\n",
    "    \"mel\": \"Potentially dangerous, seek medical evaluation.\",\n",
    "    \"nv\": \"Usually benign, but monitor for changes.\",\n",
    "    \"vasc\": \"Generally harmless but can be checked by a doctor.\",\n",
    "}\n",
    "\n",
    "def preprocess_image(image):\n",
    "    \"\"\"Preprocess the input image for model prediction.\"\"\"\n",
    "    try:\n",
    "        image = cv2.imdecode(np.frombuffer(image.read(), np.uint8), cv2.IMREAD_COLOR)\n",
    "        image = cv2.resize(image, (128, 128))\n",
    "        image = image / 255.0  # Normalize\n",
    "        return np.expand_dims(image, axis=0)  # Add batch dimension\n",
    "    except Exception as e:\n",
    "        logging.error(f\"Error preprocessing image: {e}\")\n",
    "        return None\n",
    "\n",
    "@app.route(\"/predict\", methods=[\"POST\"])\n",
    "def predict():\n",
    "    \"\"\"API endpoint to classify skin cancer from an uploaded image.\"\"\"\n",
    "    if model is None:\n",
    "        return jsonify({\"error\": \"Model not loaded\"}), 500\n",
    "\n",
    "    if \"file\" not in request.files:\n",
    "        return jsonify({\"error\": \"No file uploaded\"}), 400\n",
    "\n",
    "    file = request.files[\"file\"]\n",
    "    image = preprocess_image(file)\n",
    "\n",
    "    if image is None:\n",
    "        return jsonify({\"error\": \"Invalid image format\"}), 400\n",
    "\n",
    "    try:\n",
    "        prediction = model.predict(image)\n",
    "        predicted_class = np.argmax(prediction)\n",
    "        predicted_label = class_labels[predicted_class]\n",
    "        recommendation = recommendations[predicted_label]\n",
    "\n",
    "        response = {\n",
    "            \"cancer_type\": predicted_label,\n",
    "            \"confidence\": float(np.max(prediction)),  # Return confidence score\n",
    "            \"recommendation\": recommendation,\n",
    "        }\n",
    "        return jsonify(response)\n",
    "    \n",
    "    except Exception as e:\n",
    "        logging.error(f\"Error making prediction: {e}\")\n",
    "        return jsonify({\"error\": \"Prediction failed\"}), 500\n",
    "\n",
    "if __name__ == \"__main__\":\n",
    "    app.run(debug=True)\n"
   ]
  }
 ],
 "metadata": {
  "kernelspec": {
   "display_name": "Python 3",
   "language": "python",
   "name": "python3"
  },
  "language_info": {
   "codemirror_mode": {
    "name": "ipython",
    "version": 3
   },
   "file_extension": ".py",
   "mimetype": "text/x-python",
   "name": "python",
   "nbconvert_exporter": "python",
   "pygments_lexer": "ipython3",
   "version": "3.11.2"
  }
 },
 "nbformat": 4,
 "nbformat_minor": 2
}
